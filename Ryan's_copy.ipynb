{
 "cells": [
  {
   "cell_type": "markdown",
   "id": "6b50e60a",
   "metadata": {},
   "source": [
    "# Sentiment Analysis of Tweets about Brands (Apple & Google)"
   ]
  },
  {
   "cell_type": "markdown",
   "id": "6439856a",
   "metadata": {},
   "source": [
    "### Problem statement"
   ]
  },
  {
   "cell_type": "markdown",
   "id": "fa4d9734",
   "metadata": {},
   "source": [
    "\n",
    "This notebook builds an NLP model to classify sentiment in tweets directed at Apple and Google products.  \n"
   ]
  },
  {
   "cell_type": "markdown",
   "id": "81606938",
   "metadata": {},
   "source": [
    "### Libraries"
   ]
  },
  {
   "cell_type": "code",
   "execution_count": 1,
   "id": "b709f89b",
   "metadata": {},
   "outputs": [
    {
     "name": "stderr",
     "output_type": "stream",
     "text": [
      "[nltk_data] Downloading package punkt to\n",
      "[nltk_data]     C:\\Users\\User\\AppData\\Roaming\\nltk_data...\n",
      "[nltk_data]   Package punkt is already up-to-date!\n",
      "[nltk_data] Downloading package punkt_tab to\n",
      "[nltk_data]     C:\\Users\\User\\AppData\\Roaming\\nltk_data...\n",
      "[nltk_data]   Package punkt_tab is already up-to-date!\n",
      "[nltk_data] Downloading package wordnet to\n",
      "[nltk_data]     C:\\Users\\User\\AppData\\Roaming\\nltk_data...\n",
      "[nltk_data]   Package wordnet is already up-to-date!\n",
      "[nltk_data] Downloading package omw-1.4 to\n",
      "[nltk_data]     C:\\Users\\User\\AppData\\Roaming\\nltk_data...\n",
      "[nltk_data]   Package omw-1.4 is already up-to-date!\n",
      "[nltk_data] Downloading package stopwords to\n",
      "[nltk_data]     C:\\Users\\User\\AppData\\Roaming\\nltk_data...\n",
      "[nltk_data]   Package stopwords is already up-to-date!\n"
     ]
    }
   ],
   "source": [
    "# pandas: for data handling\n",
    "import pandas as pd\n",
    "\n",
    "# re: Python's built-in library for regular expressions (used for text cleaning)\n",
    "import re\n",
    "\n",
    "# nltk: Natural Language Toolkit, useful for tokenization, stopword removal, and lemmatization\n",
    "import nltk\n",
    "\n",
    "import matplotlib.pyplot as plt\n",
    "\n",
    "import seaborn as sns\n",
    "nltk.download(\"punkt\")        # tokenizer model\n",
    "\n",
    "nltk.download(\"punkt_tab\")    # sentence boundary detection\n",
    "\n",
    "nltk.download(\"wordnet\")      # lexical database for lemmatization \n",
    "\n",
    "nltk.download(\"omw-1.4\")      # WordNet data for multiple languages\n",
    "\n",
    "nltk.download(\"stopwords\")    # common words to filter out (e.g., \"the\", \"is\")\n",
    "\n",
    "# Import stopwords list from nltk (words to ignore during analysis)\n",
    "from nltk.corpus import stopwords\n",
    "\n",
    "# Import tokenizer to split text into individual words\n",
    "from nltk.tokenize import word_tokenize\n",
    "\n",
    "# Import lemmatizer to reduce words to their base form (e.g., \"running\" → \"run\")\n",
    "from nltk.stem import WordNetLemmatizer\n",
    "\n",
    "# TfidfVectorizer: convert text data into numerical features using TF-IDF\n",
    "from sklearn.feature_extraction.text import TfidfVectorizer\n",
    "\n",
    "# train_test_split: split data into training and testing sets for model evaluation\n",
    "from sklearn.model_selection import train_test_split\n"
   ]
  },
  {
   "cell_type": "markdown",
   "id": "00df11e1",
   "metadata": {},
   "source": [
    "### Loading Data"
   ]
  },
  {
   "cell_type": "code",
   "execution_count": 2,
   "id": "49212dfd",
   "metadata": {},
   "outputs": [
    {
     "data": {
      "text/html": [
       "<div>\n",
       "<style scoped>\n",
       "    .dataframe tbody tr th:only-of-type {\n",
       "        vertical-align: middle;\n",
       "    }\n",
       "\n",
       "    .dataframe tbody tr th {\n",
       "        vertical-align: top;\n",
       "    }\n",
       "\n",
       "    .dataframe thead th {\n",
       "        text-align: right;\n",
       "    }\n",
       "</style>\n",
       "<table border=\"1\" class=\"dataframe\">\n",
       "  <thead>\n",
       "    <tr style=\"text-align: right;\">\n",
       "      <th></th>\n",
       "      <th>tweet_text</th>\n",
       "      <th>emotion_in_tweet_is_directed_at</th>\n",
       "      <th>is_there_an_emotion_directed_at_a_brand_or_product</th>\n",
       "    </tr>\n",
       "  </thead>\n",
       "  <tbody>\n",
       "    <tr>\n",
       "      <th>0</th>\n",
       "      <td>.@wesley83 I have a 3G iPhone. After 3 hrs twe...</td>\n",
       "      <td>iPhone</td>\n",
       "      <td>Negative emotion</td>\n",
       "    </tr>\n",
       "    <tr>\n",
       "      <th>1</th>\n",
       "      <td>@jessedee Know about @fludapp ? Awesome iPad/i...</td>\n",
       "      <td>iPad or iPhone App</td>\n",
       "      <td>Positive emotion</td>\n",
       "    </tr>\n",
       "    <tr>\n",
       "      <th>2</th>\n",
       "      <td>@swonderlin Can not wait for #iPad 2 also. The...</td>\n",
       "      <td>iPad</td>\n",
       "      <td>Positive emotion</td>\n",
       "    </tr>\n",
       "    <tr>\n",
       "      <th>3</th>\n",
       "      <td>@sxsw I hope this year's festival isn't as cra...</td>\n",
       "      <td>iPad or iPhone App</td>\n",
       "      <td>Negative emotion</td>\n",
       "    </tr>\n",
       "    <tr>\n",
       "      <th>4</th>\n",
       "      <td>@sxtxstate great stuff on Fri #SXSW: Marissa M...</td>\n",
       "      <td>Google</td>\n",
       "      <td>Positive emotion</td>\n",
       "    </tr>\n",
       "  </tbody>\n",
       "</table>\n",
       "</div>"
      ],
      "text/plain": [
       "                                          tweet_text  \\\n",
       "0  .@wesley83 I have a 3G iPhone. After 3 hrs twe...   \n",
       "1  @jessedee Know about @fludapp ? Awesome iPad/i...   \n",
       "2  @swonderlin Can not wait for #iPad 2 also. The...   \n",
       "3  @sxsw I hope this year's festival isn't as cra...   \n",
       "4  @sxtxstate great stuff on Fri #SXSW: Marissa M...   \n",
       "\n",
       "  emotion_in_tweet_is_directed_at  \\\n",
       "0                          iPhone   \n",
       "1              iPad or iPhone App   \n",
       "2                            iPad   \n",
       "3              iPad or iPhone App   \n",
       "4                          Google   \n",
       "\n",
       "  is_there_an_emotion_directed_at_a_brand_or_product  \n",
       "0                                   Negative emotion  \n",
       "1                                   Positive emotion  \n",
       "2                                   Positive emotion  \n",
       "3                                   Negative emotion  \n",
       "4                                   Positive emotion  "
      ]
     },
     "execution_count": 2,
     "metadata": {},
     "output_type": "execute_result"
    }
   ],
   "source": [
    "# Reading the CSV file with correct encoding\n",
    "df = pd.read_csv('Data\\judge-1377884607_tweet_product_company.csv', encoding='Latin-1')\n",
    "\n",
    "# Displaying the first 5 rows of the dataset\n",
    "df.head()"
   ]
  },
  {
   "cell_type": "markdown",
   "id": "53891c85",
   "metadata": {},
   "source": [
    "## Exploratory Data Analysis (EDA)\n",
    "\n",
    "- In order to better understand the dataset and prepare it for sentiment analysis, we will focus on the following checks:\n",
    "    - Preview the data: Inspect the first few rows to quickly grasp the dataset’s structure.\n",
    "    - Detect any missing values in the data that could introduce bias or cause issues during preprocessing and modeling.\n",
    "    - Identify and remove duplicate tweets to prevent overrepresentation of certain entries, which could distort the sentiment model.\n",
    "    - Review the balance of sentiment categories, since skewed classes may result in models that favor majority classes and perform poorly on minority ones."
   ]
  },
  {
   "cell_type": "code",
   "execution_count": 3,
   "id": "efb0a0ab",
   "metadata": {},
   "outputs": [
    {
     "data": {
      "text/plain": [
       "(9093, 3)"
      ]
     },
     "execution_count": 3,
     "metadata": {},
     "output_type": "execute_result"
    }
   ],
   "source": [
    "#shape of the data set\n",
    "df.shape"
   ]
  },
  {
   "cell_type": "code",
   "execution_count": 4,
   "id": "79733fe1",
   "metadata": {},
   "outputs": [
    {
     "name": "stdout",
     "output_type": "stream",
     "text": [
      "<class 'pandas.core.frame.DataFrame'>\n",
      "RangeIndex: 9093 entries, 0 to 9092\n",
      "Data columns (total 3 columns):\n",
      " #   Column                                              Non-Null Count  Dtype \n",
      "---  ------                                              --------------  ----- \n",
      " 0   tweet_text                                          9092 non-null   object\n",
      " 1   emotion_in_tweet_is_directed_at                     3291 non-null   object\n",
      " 2   is_there_an_emotion_directed_at_a_brand_or_product  9093 non-null   object\n",
      "dtypes: object(3)\n",
      "memory usage: 213.2+ KB\n"
     ]
    }
   ],
   "source": [
    "# Basic information about the dataframe\n",
    "df.info()"
   ]
  },
  {
   "cell_type": "markdown",
   "id": "1f4aca66",
   "metadata": {},
   "source": [
    "#### Handling Missing Values\n"
   ]
  },
  {
   "cell_type": "code",
   "execution_count": 5,
   "id": "e93d396d",
   "metadata": {},
   "outputs": [],
   "source": [
    "# Removing any rows where the tweet text is missing, because a tweet with no text is useless for sentiment analysis.\n",
    "df.dropna(subset=[\"tweet_text\"], inplace=True)\n",
    "\n",
    "# Instead of dropping missing values in the emotion_in_tweet_is_directed_at column, we fill them with 'Unknown'\n",
    "\n",
    "df.fillna({'emotion_in_tweet_is_directed_at': 'Unknown'}, inplace=True)\n",
    "\n",
    "# Reset index\n",
    "df.reset_index(drop=True, inplace=True)\n"
   ]
  },
  {
   "cell_type": "code",
   "execution_count": 6,
   "id": "14d364c6",
   "metadata": {},
   "outputs": [
    {
     "data": {
      "text/plain": [
       "tweet_text                                            0\n",
       "emotion_in_tweet_is_directed_at                       0\n",
       "is_there_an_emotion_directed_at_a_brand_or_product    0\n",
       "dtype: int64"
      ]
     },
     "execution_count": 6,
     "metadata": {},
     "output_type": "execute_result"
    }
   ],
   "source": [
    "df.isna().sum()"
   ]
  },
  {
   "cell_type": "markdown",
   "id": "ced9d304",
   "metadata": {},
   "source": [
    "#### Duplicates"
   ]
  },
  {
   "cell_type": "code",
   "execution_count": 7,
   "id": "39f74148",
   "metadata": {},
   "outputs": [
    {
     "name": "stdout",
     "output_type": "stream",
     "text": [
      "Number of duplicate rows (excluding first occurrence): 22\n",
      "\n",
      "All duplicate rows (including originals):\n"
     ]
    },
    {
     "data": {
      "text/html": [
       "<div>\n",
       "<style scoped>\n",
       "    .dataframe tbody tr th:only-of-type {\n",
       "        vertical-align: middle;\n",
       "    }\n",
       "\n",
       "    .dataframe tbody tr th {\n",
       "        vertical-align: top;\n",
       "    }\n",
       "\n",
       "    .dataframe thead th {\n",
       "        text-align: right;\n",
       "    }\n",
       "</style>\n",
       "<table border=\"1\" class=\"dataframe\">\n",
       "  <thead>\n",
       "    <tr style=\"text-align: right;\">\n",
       "      <th></th>\n",
       "      <th>tweet_text</th>\n",
       "      <th>emotion_in_tweet_is_directed_at</th>\n",
       "      <th>is_there_an_emotion_directed_at_a_brand_or_product</th>\n",
       "    </tr>\n",
       "  </thead>\n",
       "  <tbody>\n",
       "    <tr>\n",
       "      <th>6</th>\n",
       "      <td>#SXSW is just starting, #CTIA is around the co...</td>\n",
       "      <td>Android</td>\n",
       "      <td>Positive emotion</td>\n",
       "    </tr>\n",
       "    <tr>\n",
       "      <th>3961</th>\n",
       "      <td>#SXSW is just starting, #CTIA is around the co...</td>\n",
       "      <td>Android</td>\n",
       "      <td>Positive emotion</td>\n",
       "    </tr>\n",
       "    <tr>\n",
       "      <th>465</th>\n",
       "      <td>Before It Even Begins, Apple Wins #SXSW {link}</td>\n",
       "      <td>Apple</td>\n",
       "      <td>Positive emotion</td>\n",
       "    </tr>\n",
       "    <tr>\n",
       "      <th>467</th>\n",
       "      <td>Before It Even Begins, Apple Wins #SXSW {link}</td>\n",
       "      <td>Apple</td>\n",
       "      <td>Positive emotion</td>\n",
       "    </tr>\n",
       "    <tr>\n",
       "      <th>8</th>\n",
       "      <td>Counting down the days to #sxsw plus strong Ca...</td>\n",
       "      <td>Apple</td>\n",
       "      <td>Positive emotion</td>\n",
       "    </tr>\n",
       "    <tr>\n",
       "      <th>2558</th>\n",
       "      <td>Counting down the days to #sxsw plus strong Ca...</td>\n",
       "      <td>Apple</td>\n",
       "      <td>Positive emotion</td>\n",
       "    </tr>\n",
       "    <tr>\n",
       "      <th>773</th>\n",
       "      <td>Google to Launch Major New Social Network Call...</td>\n",
       "      <td>Unknown</td>\n",
       "      <td>No emotion toward brand or product</td>\n",
       "    </tr>\n",
       "    <tr>\n",
       "      <th>775</th>\n",
       "      <td>Google to Launch Major New Social Network Call...</td>\n",
       "      <td>Unknown</td>\n",
       "      <td>No emotion toward brand or product</td>\n",
       "    </tr>\n",
       "    <tr>\n",
       "      <th>16</th>\n",
       "      <td>I just noticed DST is coming this weekend. How...</td>\n",
       "      <td>iPhone</td>\n",
       "      <td>Negative emotion</td>\n",
       "    </tr>\n",
       "    <tr>\n",
       "      <th>8482</th>\n",
       "      <td>I just noticed DST is coming this weekend. How...</td>\n",
       "      <td>iPhone</td>\n",
       "      <td>Negative emotion</td>\n",
       "    </tr>\n",
       "    <tr>\n",
       "      <th>2229</th>\n",
       "      <td>Marissa Mayer: Google Will Connect the Digital...</td>\n",
       "      <td>Unknown</td>\n",
       "      <td>No emotion toward brand or product</td>\n",
       "    </tr>\n",
       "    <tr>\n",
       "      <th>2231</th>\n",
       "      <td>Marissa Mayer: Google Will Connect the Digital...</td>\n",
       "      <td>Unknown</td>\n",
       "      <td>No emotion toward brand or product</td>\n",
       "    </tr>\n",
       "    <tr>\n",
       "      <th>19</th>\n",
       "      <td>Need to buy an iPad2 while I'm in Austin at #s...</td>\n",
       "      <td>iPad</td>\n",
       "      <td>Positive emotion</td>\n",
       "    </tr>\n",
       "    <tr>\n",
       "      <th>8746</th>\n",
       "      <td>Need to buy an iPad2 while I'm in Austin at #s...</td>\n",
       "      <td>iPad</td>\n",
       "      <td>Positive emotion</td>\n",
       "    </tr>\n",
       "    <tr>\n",
       "      <th>20</th>\n",
       "      <td>Oh. My. God. The #SXSW app for iPad is pure, u...</td>\n",
       "      <td>iPad or iPhone App</td>\n",
       "      <td>Positive emotion</td>\n",
       "    </tr>\n",
       "    <tr>\n",
       "      <th>4896</th>\n",
       "      <td>Oh. My. God. The #SXSW app for iPad is pure, u...</td>\n",
       "      <td>iPad or iPhone App</td>\n",
       "      <td>Positive emotion</td>\n",
       "    </tr>\n",
       "    <tr>\n",
       "      <th>5879</th>\n",
       "      <td>RT @mention Google to Launch Major New Social ...</td>\n",
       "      <td>Unknown</td>\n",
       "      <td>No emotion toward brand or product</td>\n",
       "    </tr>\n",
       "    <tr>\n",
       "      <th>5881</th>\n",
       "      <td>RT @mention Google to Launch Major New Social ...</td>\n",
       "      <td>Unknown</td>\n",
       "      <td>No emotion toward brand or product</td>\n",
       "    </tr>\n",
       "    <tr>\n",
       "      <th>5883</th>\n",
       "      <td>RT @mention Google to Launch Major New Social ...</td>\n",
       "      <td>Unknown</td>\n",
       "      <td>No emotion toward brand or product</td>\n",
       "    </tr>\n",
       "    <tr>\n",
       "      <th>5878</th>\n",
       "      <td>RT @mention Google to Launch Major New Social ...</td>\n",
       "      <td>Unknown</td>\n",
       "      <td>No emotion toward brand or product</td>\n",
       "    </tr>\n",
       "    <tr>\n",
       "      <th>5880</th>\n",
       "      <td>RT @mention Google to Launch Major New Social ...</td>\n",
       "      <td>Unknown</td>\n",
       "      <td>No emotion toward brand or product</td>\n",
       "    </tr>\n",
       "    <tr>\n",
       "      <th>5882</th>\n",
       "      <td>RT @mention Google to Launch Major New Social ...</td>\n",
       "      <td>Unknown</td>\n",
       "      <td>No emotion toward brand or product</td>\n",
       "    </tr>\n",
       "    <tr>\n",
       "      <th>5884</th>\n",
       "      <td>RT @mention Google to Launch Major New Social ...</td>\n",
       "      <td>Unknown</td>\n",
       "      <td>No emotion toward brand or product</td>\n",
       "    </tr>\n",
       "    <tr>\n",
       "      <th>6294</th>\n",
       "      <td>RT @mention Marissa Mayer: Google Will Connect...</td>\n",
       "      <td>Unknown</td>\n",
       "      <td>No emotion toward brand or product</td>\n",
       "    </tr>\n",
       "    <tr>\n",
       "      <th>6296</th>\n",
       "      <td>RT @mention Marissa Mayer: Google Will Connect...</td>\n",
       "      <td>Unknown</td>\n",
       "      <td>No emotion toward brand or product</td>\n",
       "    </tr>\n",
       "    <tr>\n",
       "      <th>6298</th>\n",
       "      <td>RT @mention Marissa Mayer: Google Will Connect...</td>\n",
       "      <td>Unknown</td>\n",
       "      <td>No emotion toward brand or product</td>\n",
       "    </tr>\n",
       "    <tr>\n",
       "      <th>6291</th>\n",
       "      <td>RT @mention Marissa Mayer: Google Will Connect...</td>\n",
       "      <td>Google</td>\n",
       "      <td>Positive emotion</td>\n",
       "    </tr>\n",
       "    <tr>\n",
       "      <th>6295</th>\n",
       "      <td>RT @mention Marissa Mayer: Google Will Connect...</td>\n",
       "      <td>Google</td>\n",
       "      <td>Positive emotion</td>\n",
       "    </tr>\n",
       "    <tr>\n",
       "      <th>6297</th>\n",
       "      <td>RT @mention Marissa Mayer: Google Will Connect...</td>\n",
       "      <td>Google</td>\n",
       "      <td>Positive emotion</td>\n",
       "    </tr>\n",
       "    <tr>\n",
       "      <th>6293</th>\n",
       "      <td>RT @mention Marissa Mayer: Google Will Connect...</td>\n",
       "      <td>Unknown</td>\n",
       "      <td>No emotion toward brand or product</td>\n",
       "    </tr>\n",
       "    <tr>\n",
       "      <th>6299</th>\n",
       "      <td>RT @mention Marissa Mayer: Google Will Connect...</td>\n",
       "      <td>Unknown</td>\n",
       "      <td>No emotion toward brand or product</td>\n",
       "    </tr>\n",
       "    <tr>\n",
       "      <th>6543</th>\n",
       "      <td>RT @mention RT @mention Google to Launch Major...</td>\n",
       "      <td>Unknown</td>\n",
       "      <td>No emotion toward brand or product</td>\n",
       "    </tr>\n",
       "    <tr>\n",
       "      <th>6545</th>\n",
       "      <td>RT @mention RT @mention Google to Launch Major...</td>\n",
       "      <td>Unknown</td>\n",
       "      <td>No emotion toward brand or product</td>\n",
       "    </tr>\n",
       "    <tr>\n",
       "      <th>5335</th>\n",
       "      <td>RT @mention ÷¼ GO BEYOND BORDERS! ÷_ {link} ...</td>\n",
       "      <td>Unknown</td>\n",
       "      <td>No emotion toward brand or product</td>\n",
       "    </tr>\n",
       "    <tr>\n",
       "      <th>5337</th>\n",
       "      <td>RT @mention ÷¼ GO BEYOND BORDERS! ÷_ {link} ...</td>\n",
       "      <td>Unknown</td>\n",
       "      <td>No emotion toward brand or product</td>\n",
       "    </tr>\n",
       "    <tr>\n",
       "      <th>5338</th>\n",
       "      <td>RT @mention ÷¼ Happy Woman's Day! Make love, ...</td>\n",
       "      <td>Unknown</td>\n",
       "      <td>No emotion toward brand or product</td>\n",
       "    </tr>\n",
       "    <tr>\n",
       "      <th>5340</th>\n",
       "      <td>RT @mention ÷¼ Happy Woman's Day! Make love, ...</td>\n",
       "      <td>Unknown</td>\n",
       "      <td>No emotion toward brand or product</td>\n",
       "    </tr>\n",
       "    <tr>\n",
       "      <th>23</th>\n",
       "      <td>Really enjoying the changes in Gowalla 3.0 for...</td>\n",
       "      <td>Android App</td>\n",
       "      <td>Positive emotion</td>\n",
       "    </tr>\n",
       "    <tr>\n",
       "      <th>3949</th>\n",
       "      <td>Really enjoying the changes in Gowalla 3.0 for...</td>\n",
       "      <td>Android App</td>\n",
       "      <td>Positive emotion</td>\n",
       "    </tr>\n",
       "  </tbody>\n",
       "</table>\n",
       "</div>"
      ],
      "text/plain": [
       "                                             tweet_text  \\\n",
       "6     #SXSW is just starting, #CTIA is around the co...   \n",
       "3961  #SXSW is just starting, #CTIA is around the co...   \n",
       "465      Before It Even Begins, Apple Wins #SXSW {link}   \n",
       "467      Before It Even Begins, Apple Wins #SXSW {link}   \n",
       "8     Counting down the days to #sxsw plus strong Ca...   \n",
       "2558  Counting down the days to #sxsw plus strong Ca...   \n",
       "773   Google to Launch Major New Social Network Call...   \n",
       "775   Google to Launch Major New Social Network Call...   \n",
       "16    I just noticed DST is coming this weekend. How...   \n",
       "8482  I just noticed DST is coming this weekend. How...   \n",
       "2229  Marissa Mayer: Google Will Connect the Digital...   \n",
       "2231  Marissa Mayer: Google Will Connect the Digital...   \n",
       "19    Need to buy an iPad2 while I'm in Austin at #s...   \n",
       "8746  Need to buy an iPad2 while I'm in Austin at #s...   \n",
       "20    Oh. My. God. The #SXSW app for iPad is pure, u...   \n",
       "4896  Oh. My. God. The #SXSW app for iPad is pure, u...   \n",
       "5879  RT @mention Google to Launch Major New Social ...   \n",
       "5881  RT @mention Google to Launch Major New Social ...   \n",
       "5883  RT @mention Google to Launch Major New Social ...   \n",
       "5878  RT @mention Google to Launch Major New Social ...   \n",
       "5880  RT @mention Google to Launch Major New Social ...   \n",
       "5882  RT @mention Google to Launch Major New Social ...   \n",
       "5884  RT @mention Google to Launch Major New Social ...   \n",
       "6294  RT @mention Marissa Mayer: Google Will Connect...   \n",
       "6296  RT @mention Marissa Mayer: Google Will Connect...   \n",
       "6298  RT @mention Marissa Mayer: Google Will Connect...   \n",
       "6291  RT @mention Marissa Mayer: Google Will Connect...   \n",
       "6295  RT @mention Marissa Mayer: Google Will Connect...   \n",
       "6297  RT @mention Marissa Mayer: Google Will Connect...   \n",
       "6293  RT @mention Marissa Mayer: Google Will Connect...   \n",
       "6299  RT @mention Marissa Mayer: Google Will Connect...   \n",
       "6543  RT @mention RT @mention Google to Launch Major...   \n",
       "6545  RT @mention RT @mention Google to Launch Major...   \n",
       "5335  RT @mention ÷¼ GO BEYOND BORDERS! ÷_ {link} ...   \n",
       "5337  RT @mention ÷¼ GO BEYOND BORDERS! ÷_ {link} ...   \n",
       "5338  RT @mention ÷¼ Happy Woman's Day! Make love, ...   \n",
       "5340  RT @mention ÷¼ Happy Woman's Day! Make love, ...   \n",
       "23    Really enjoying the changes in Gowalla 3.0 for...   \n",
       "3949  Really enjoying the changes in Gowalla 3.0 for...   \n",
       "\n",
       "     emotion_in_tweet_is_directed_at  \\\n",
       "6                            Android   \n",
       "3961                         Android   \n",
       "465                            Apple   \n",
       "467                            Apple   \n",
       "8                              Apple   \n",
       "2558                           Apple   \n",
       "773                          Unknown   \n",
       "775                          Unknown   \n",
       "16                            iPhone   \n",
       "8482                          iPhone   \n",
       "2229                         Unknown   \n",
       "2231                         Unknown   \n",
       "19                              iPad   \n",
       "8746                            iPad   \n",
       "20                iPad or iPhone App   \n",
       "4896              iPad or iPhone App   \n",
       "5879                         Unknown   \n",
       "5881                         Unknown   \n",
       "5883                         Unknown   \n",
       "5878                         Unknown   \n",
       "5880                         Unknown   \n",
       "5882                         Unknown   \n",
       "5884                         Unknown   \n",
       "6294                         Unknown   \n",
       "6296                         Unknown   \n",
       "6298                         Unknown   \n",
       "6291                          Google   \n",
       "6295                          Google   \n",
       "6297                          Google   \n",
       "6293                         Unknown   \n",
       "6299                         Unknown   \n",
       "6543                         Unknown   \n",
       "6545                         Unknown   \n",
       "5335                         Unknown   \n",
       "5337                         Unknown   \n",
       "5338                         Unknown   \n",
       "5340                         Unknown   \n",
       "23                       Android App   \n",
       "3949                     Android App   \n",
       "\n",
       "     is_there_an_emotion_directed_at_a_brand_or_product  \n",
       "6                                      Positive emotion  \n",
       "3961                                   Positive emotion  \n",
       "465                                    Positive emotion  \n",
       "467                                    Positive emotion  \n",
       "8                                      Positive emotion  \n",
       "2558                                   Positive emotion  \n",
       "773                  No emotion toward brand or product  \n",
       "775                  No emotion toward brand or product  \n",
       "16                                     Negative emotion  \n",
       "8482                                   Negative emotion  \n",
       "2229                 No emotion toward brand or product  \n",
       "2231                 No emotion toward brand or product  \n",
       "19                                     Positive emotion  \n",
       "8746                                   Positive emotion  \n",
       "20                                     Positive emotion  \n",
       "4896                                   Positive emotion  \n",
       "5879                 No emotion toward brand or product  \n",
       "5881                 No emotion toward brand or product  \n",
       "5883                 No emotion toward brand or product  \n",
       "5878                 No emotion toward brand or product  \n",
       "5880                 No emotion toward brand or product  \n",
       "5882                 No emotion toward brand or product  \n",
       "5884                 No emotion toward brand or product  \n",
       "6294                 No emotion toward brand or product  \n",
       "6296                 No emotion toward brand or product  \n",
       "6298                 No emotion toward brand or product  \n",
       "6291                                   Positive emotion  \n",
       "6295                                   Positive emotion  \n",
       "6297                                   Positive emotion  \n",
       "6293                 No emotion toward brand or product  \n",
       "6299                 No emotion toward brand or product  \n",
       "6543                 No emotion toward brand or product  \n",
       "6545                 No emotion toward brand or product  \n",
       "5335                 No emotion toward brand or product  \n",
       "5337                 No emotion toward brand or product  \n",
       "5338                 No emotion toward brand or product  \n",
       "5340                 No emotion toward brand or product  \n",
       "23                                     Positive emotion  \n",
       "3949                                   Positive emotion  "
      ]
     },
     "execution_count": 7,
     "metadata": {},
     "output_type": "execute_result"
    }
   ],
   "source": [
    "# Checking for duplicates and print how many there are\n",
    "num_duplicates = df.duplicated().sum()\n",
    "print(f\"Number of duplicate rows (excluding first occurrence): {num_duplicates}\")\n",
    "\n",
    "# Showing all rows that are duplicated, including their first occurrence\n",
    "duplicates_with_originals = df[df.duplicated(keep=False)]\n",
    "\n",
    "# Sorting so duplicates appear next to each other\n",
    "duplicates_with_originals = duplicates_with_originals.sort_values(by=list(df.columns))\n",
    "\n",
    "print(\"\\nAll duplicate rows (including originals):\")\n",
    "duplicates_with_originals\n"
   ]
  },
  {
   "cell_type": "code",
   "execution_count": 8,
   "id": "b8ad6a19",
   "metadata": {},
   "outputs": [
    {
     "data": {
      "text/plain": [
       "(9070, 3)"
      ]
     },
     "execution_count": 8,
     "metadata": {},
     "output_type": "execute_result"
    }
   ],
   "source": [
    "# Drop duplicates\n",
    "df.drop_duplicates(inplace=True)\n",
    "df.shape"
   ]
  },
  {
   "cell_type": "markdown",
   "id": "04497e83",
   "metadata": {},
   "source": [
    "### Basic Dataset Exploration"
   ]
  },
  {
   "cell_type": "markdown",
   "id": "b873dd18",
   "metadata": {},
   "source": [
    "#### Sentiment Distribution"
   ]
  },
  {
   "cell_type": "code",
   "execution_count": 9,
   "id": "a094baf1",
   "metadata": {},
   "outputs": [
    {
     "data": {
      "text/plain": [
       "No emotion toward brand or product    5375\n",
       "Positive emotion                      2970\n",
       "Negative emotion                       569\n",
       "I can't tell                           156\n",
       "Name: is_there_an_emotion_directed_at_a_brand_or_product, dtype: int64"
      ]
     },
     "execution_count": 9,
     "metadata": {},
     "output_type": "execute_result"
    }
   ],
   "source": [
    "# Get sentiment counts\n",
    "sentiment_counts = df['is_there_an_emotion_directed_at_a_brand_or_product'].value_counts()\n",
    "sentiment_counts"
   ]
  },
  {
   "cell_type": "code",
   "execution_count": 10,
   "id": "d8422b43",
   "metadata": {},
   "outputs": [
    {
     "data": {
      "image/png": "[encoded data removed]",
      "text/plain": [
       "<Figure size 1000x600 with 1 Axes>"
      ]
     },
     "metadata": {},
     "output_type": "display_data"
    }
   ],
   "source": [
    "# Bar chart\n",
    "plt.figure(figsize=(10,6))\n",
    "sentiment_counts.plot(kind='bar')\n",
    "\n",
    "plt.title(\"Sentiment Distribution\", fontsize=16)\n",
    "plt.xlabel(\"Sentiment\", fontsize=12)\n",
    "plt.ylabel(\"Count\", fontsize=12)\n",
    "plt.xticks(rotation=45, ha='right')\n",
    "plt.show()\n"
   ]
  },
  {
   "cell_type": "markdown",
   "id": "7ab1d616",
   "metadata": {},
   "source": [
    "- Class imbalance exists, with Neutral (No-emotion) or positive emotion dominating and Negative being underrepresented.\n",
    "    - The largest class is Neutral (No emotion toward brand or product) (5,375 tweets, ~54%).\n",
    "    - The second largest is \"Positive emotion\" (2,970 tweets, ~30%).\n",
    "    - \"Negative emotion\" is much smaller (569 tweets, ~6%).\n",
    "    - \"I can't tell\" is very rare (156 tweets, ~2%).\n"
   ]
  },
  {
   "cell_type": "markdown",
   "id": "150a73c6",
   "metadata": {},
   "source": [
    "#### Sentiment by Brand"
   ]
  },
  {
   "cell_type": "code",
   "execution_count": 11,
   "id": "806c38fc",
   "metadata": {},
   "outputs": [
    {
     "data": {
      "image/png": "[encoded data removed]",
      "text/plain": [
       "<Figure size 800x600 with 1 Axes>"
      ]
     },
     "metadata": {},
     "output_type": "display_data"
    }
   ],
   "source": [
    "brands = ['Apple', 'Google']  # adjust if other brand names\n",
    "subset = df[df['emotion_in_tweet_is_directed_at'].isin(brands)].copy()\n",
    "\n",
    "plt.figure(figsize=(8,6))\n",
    "hue_order = df['is_there_an_emotion_directed_at_a_brand_or_product'].value_counts().index.tolist()\n",
    "sns.countplot(data=subset, x='emotion_in_tweet_is_directed_at', hue='is_there_an_emotion_directed_at_a_brand_or_product',\n",
    "              order=brands, hue_order=hue_order)\n",
    "plt.title('Sentiment by Brand')\n",
    "plt.xlabel('Brand')\n",
    "plt.ylabel('Count')\n",
    "plt.legend(title='Sentiment', bbox_to_anchor=(1.05,1), loc='upper left')\n",
    "plt.tight_layout()\n",
    "# plt.savefig('sentiment_by_brand.png', bbox_inches='tight')\n",
    "plt.show()\n"
   ]
  },
  {
   "cell_type": "markdown",
   "id": "72706baa",
   "metadata": {},
   "source": [
    "- People on Twitter generally express clear opinions, mostly positive, when talking about these brands.\n",
    "     - Public sentiment is mostly positive for both brands, with Apple slightly leading in volume.\n",
    "    - Negative sentiment exists but is much smaller, and neutral/ambiguous tweets are rare.\n"
   ]
  },
  {
   "cell_type": "code",
   "execution_count": null,
   "id": "d784c408",
   "metadata": {},
   "outputs": [],
   "source": []
  },
  {
   "cell_type": "markdown",
   "id": "b392d4f3",
   "metadata": {},
   "source": [
    "## Cleaning and Preprocessing Text Data"
   ]
  },
  {
   "cell_type": "markdown",
   "id": "f8567cbb",
   "metadata": {},
   "source": [
    "- Preparing the tweet text for sentiment analysis by :\n",
    "     - Removing URLs → eliminates links (e.g., http://..., https://..., www...) since they don’t contribute to sentiment.\n",
    "     - Removing user mentions → strips out @username tags, which are not useful for sentiment content.\n",
    "     - Removing hashtags → deletes #hashtag symbols and words, to prevent bias from hashtagged words.\n",
    "     - Removing special characters and numbers → keeps only alphabetic characters and spaces.\n",
    "\n",
    "- The purpose of this function is to standardize and clean the raw tweet text so that it’s easier to analyze. "
   ]
  },
  {
   "cell_type": "code",
   "execution_count": 12,
   "id": "44dc9693",
   "metadata": {},
   "outputs": [
    {
     "data": {
      "text/html": [
       "<div>\n",
       "<style scoped>\n",
       "    .dataframe tbody tr th:only-of-type {\n",
       "        vertical-align: middle;\n",
       "    }\n",
       "\n",
       "    .dataframe tbody tr th {\n",
       "        vertical-align: top;\n",
       "    }\n",
       "\n",
       "    .dataframe thead th {\n",
       "        text-align: right;\n",
       "    }\n",
       "</style>\n",
       "<table border=\"1\" class=\"dataframe\">\n",
       "  <thead>\n",
       "    <tr style=\"text-align: right;\">\n",
       "      <th></th>\n",
       "      <th>tweet_text</th>\n",
       "      <th>clean_text</th>\n",
       "    </tr>\n",
       "  </thead>\n",
       "  <tbody>\n",
       "    <tr>\n",
       "      <th>0</th>\n",
       "      <td>.@wesley83 I have a 3G iPhone. After 3 hrs twe...</td>\n",
       "      <td>I have a G iPhone After  hrs tweeting at  it ...</td>\n",
       "    </tr>\n",
       "    <tr>\n",
       "      <th>1</th>\n",
       "      <td>@jessedee Know about @fludapp ? Awesome iPad/i...</td>\n",
       "      <td>Know about   Awesome iPadiPhone app that youl...</td>\n",
       "    </tr>\n",
       "    <tr>\n",
       "      <th>2</th>\n",
       "      <td>@swonderlin Can not wait for #iPad 2 also. The...</td>\n",
       "      <td>Can not wait for   also They should sale them...</td>\n",
       "    </tr>\n",
       "    <tr>\n",
       "      <th>3</th>\n",
       "      <td>@sxsw I hope this year's festival isn't as cra...</td>\n",
       "      <td>I hope this years festival isnt as crashy as ...</td>\n",
       "    </tr>\n",
       "    <tr>\n",
       "      <th>4</th>\n",
       "      <td>@sxtxstate great stuff on Fri #SXSW: Marissa M...</td>\n",
       "      <td>great stuff on Fri  Marissa Mayer Google Tim ...</td>\n",
       "    </tr>\n",
       "    <tr>\n",
       "      <th>5</th>\n",
       "      <td>@teachntech00 New iPad Apps For #SpeechTherapy...</td>\n",
       "      <td>New iPad Apps For  And Communication Are Show...</td>\n",
       "    </tr>\n",
       "    <tr>\n",
       "      <th>6</th>\n",
       "      <td>#SXSW is just starting, #CTIA is around the co...</td>\n",
       "      <td>is just starting  is around the corner and  i...</td>\n",
       "    </tr>\n",
       "    <tr>\n",
       "      <th>7</th>\n",
       "      <td>Beautifully smart and simple idea RT @madebyma...</td>\n",
       "      <td>Beautifully smart and simple idea RT   wrote a...</td>\n",
       "    </tr>\n",
       "    <tr>\n",
       "      <th>8</th>\n",
       "      <td>Counting down the days to #sxsw plus strong Ca...</td>\n",
       "      <td>Counting down the days to  plus strong Canadia...</td>\n",
       "    </tr>\n",
       "    <tr>\n",
       "      <th>9</th>\n",
       "      <td>Excited to meet the @samsungmobileus at #sxsw ...</td>\n",
       "      <td>Excited to meet the  at  so I can show them my...</td>\n",
       "    </tr>\n",
       "  </tbody>\n",
       "</table>\n",
       "</div>"
      ],
      "text/plain": [
       "                                          tweet_text  \\\n",
       "0  .@wesley83 I have a 3G iPhone. After 3 hrs twe...   \n",
       "1  @jessedee Know about @fludapp ? Awesome iPad/i...   \n",
       "2  @swonderlin Can not wait for #iPad 2 also. The...   \n",
       "3  @sxsw I hope this year's festival isn't as cra...   \n",
       "4  @sxtxstate great stuff on Fri #SXSW: Marissa M...   \n",
       "5  @teachntech00 New iPad Apps For #SpeechTherapy...   \n",
       "6  #SXSW is just starting, #CTIA is around the co...   \n",
       "7  Beautifully smart and simple idea RT @madebyma...   \n",
       "8  Counting down the days to #sxsw plus strong Ca...   \n",
       "9  Excited to meet the @samsungmobileus at #sxsw ...   \n",
       "\n",
       "                                          clean_text  \n",
       "0   I have a G iPhone After  hrs tweeting at  it ...  \n",
       "1   Know about   Awesome iPadiPhone app that youl...  \n",
       "2   Can not wait for   also They should sale them...  \n",
       "3   I hope this years festival isnt as crashy as ...  \n",
       "4   great stuff on Fri  Marissa Mayer Google Tim ...  \n",
       "5   New iPad Apps For  And Communication Are Show...  \n",
       "6   is just starting  is around the corner and  i...  \n",
       "7  Beautifully smart and simple idea RT   wrote a...  \n",
       "8  Counting down the days to  plus strong Canadia...  \n",
       "9  Excited to meet the  at  so I can show them my...  "
      ]
     },
     "execution_count": 12,
     "metadata": {},
     "output_type": "execute_result"
    }
   ],
   "source": [
    "def clean_tweet_text(text):\n",
    "\n",
    "    # Remove URLs\n",
    "    text = re.sub(r\"http\\S+|www\\S+|https\\S+\", \"\", text, flags=re.MULTILINE)\n",
    "\n",
    "    # Remove user mentions\n",
    "    text = re.sub(r\"@\\w+\", \"\", text)\n",
    "\n",
    "    # Remove hashtags\n",
    "    text = re.sub(r\"#\\w+\", \"\", text)\n",
    "\n",
    "    # Remove special characters and numbers\n",
    "    text = re.sub(r\"[^A-Za-z\\s]\", \"\", text)\n",
    "\n",
    "    return text\n",
    "\n",
    "df[\"clean_text\"] = df[\"tweet_text\"].apply(clean_tweet_text)\n",
    "\n",
    "\n",
    "# Showing original and cleaned tweet side by side\n",
    "df[[\"tweet_text\", \"clean_text\"]].head(10)\n",
    "\n"
   ]
  },
  {
   "cell_type": "markdown",
   "id": "35d0679d",
   "metadata": {},
   "source": [
    "#### Tweet length distribution\n",
    "\n",
    "- Checking tweet lengths in words and how they vary by sentiment."
   ]
  },
  {
   "cell_type": "code",
   "execution_count": 13,
   "id": "7812c56b",
   "metadata": {},
   "outputs": [
    {
     "data": {
      "image/png": "[encoded data removed]",
      "text/plain": [
       "<Figure size 1200x400 with 2 Axes>"
      ]
     },
     "metadata": {},
     "output_type": "display_data"
    }
   ],
   "source": [
    "# create length features (words)\n",
    "df['tweet_len_words'] = df['clean_text'].fillna(\"\").str.split().apply(len)\n",
    "\n",
    "plt.figure(figsize=(12,4))\n",
    "\n",
    "# histogram of tweet lengths\n",
    "plt.subplot(1,2,1)\n",
    "sns.histplot(df['tweet_len_words'], bins=30, kde=True)\n",
    "plt.title('Distribution of tweet length (words)')\n",
    "plt.xlabel('Words per tweet')\n",
    "\n",
    "# boxplot of tweet length by sentiment\n",
    "plt.subplot(1,2,2)\n",
    "order = df['is_there_an_emotion_directed_at_a_brand_or_product'].value_counts().index\n",
    "sns.boxplot(x='is_there_an_emotion_directed_at_a_brand_or_product', y='tweet_len_words', data=df, order=order)\n",
    "plt.xticks(rotation=45)\n",
    "plt.title('Tweet length by sentiment')\n",
    "plt.xlabel('Sentiment')\n",
    "plt.ylabel('Words')\n",
    "\n",
    "plt.tight_layout()\n",
    "# plt.savefig('tweet_length_analysis.png', bbox_inches='tight')\n",
    "plt.show()\n"
   ]
  },
  {
   "cell_type": "code",
   "execution_count": 14,
   "id": "ff132ccc",
   "metadata": {},
   "outputs": [
    {
     "data": {
      "text/html": [
       "<div>\n",
       "<style scoped>\n",
       "    .dataframe tbody tr th:only-of-type {\n",
       "        vertical-align: middle;\n",
       "    }\n",
       "\n",
       "    .dataframe tbody tr th {\n",
       "        vertical-align: top;\n",
       "    }\n",
       "\n",
       "    .dataframe thead th {\n",
       "        text-align: right;\n",
       "    }\n",
       "</style>\n",
       "<table border=\"1\" class=\"dataframe\">\n",
       "  <thead>\n",
       "    <tr style=\"text-align: right;\">\n",
       "      <th></th>\n",
       "      <th>is_there_an_emotion_directed_at_a_brand_or_product</th>\n",
       "      <th>mean_length</th>\n",
       "      <th>median_length</th>\n",
       "      <th>std_length</th>\n",
       "    </tr>\n",
       "  </thead>\n",
       "  <tbody>\n",
       "    <tr>\n",
       "      <th>0</th>\n",
       "      <td>I can't tell</td>\n",
       "      <td>14.916667</td>\n",
       "      <td>14</td>\n",
       "      <td>5.017336</td>\n",
       "    </tr>\n",
       "    <tr>\n",
       "      <th>1</th>\n",
       "      <td>Negative emotion</td>\n",
       "      <td>16.189807</td>\n",
       "      <td>16</td>\n",
       "      <td>4.987573</td>\n",
       "    </tr>\n",
       "    <tr>\n",
       "      <th>2</th>\n",
       "      <td>No emotion toward brand or product</td>\n",
       "      <td>14.323163</td>\n",
       "      <td>14</td>\n",
       "      <td>4.876664</td>\n",
       "    </tr>\n",
       "    <tr>\n",
       "      <th>3</th>\n",
       "      <td>Positive emotion</td>\n",
       "      <td>15.271380</td>\n",
       "      <td>15</td>\n",
       "      <td>4.906854</td>\n",
       "    </tr>\n",
       "  </tbody>\n",
       "</table>\n",
       "</div>"
      ],
      "text/plain": [
       "  is_there_an_emotion_directed_at_a_brand_or_product  mean_length  \\\n",
       "0                                       I can't tell    14.916667   \n",
       "1                                   Negative emotion    16.189807   \n",
       "2                 No emotion toward brand or product    14.323163   \n",
       "3                                   Positive emotion    15.271380   \n",
       "\n",
       "   median_length  std_length  \n",
       "0             14    5.017336  \n",
       "1             16    4.987573  \n",
       "2             14    4.876664  \n",
       "3             15    4.906854  "
      ]
     },
     "execution_count": 14,
     "metadata": {},
     "output_type": "execute_result"
    }
   ],
   "source": [
    "# Group by sentiment and calculate summary statistics\n",
    "summary_stats = df.groupby('is_there_an_emotion_directed_at_a_brand_or_product')['tweet_len_words'].agg(\n",
    "    mean_length='mean',\n",
    "    median_length='median',\n",
    "    std_length='std'\n",
    ").reset_index()\n",
    "\n",
    "summary_stats\n"
   ]
  },
  {
   "cell_type": "markdown",
   "id": "0dcd641f",
   "metadata": {},
   "source": [
    "- The distribution of tweet length shows that most tweets fall between 8 and 20 words, with a peak around 13–15 words.\n",
    "\n",
    "- Tweets expressing positive (15.27) or negative emotions (16.19) tend to be slightly longer on average compared to neutral (14.32) or ambiguous tweets (14.92). This suggests that when users feel strongly about a brand or product, they use more words to convey their opinion.\n",
    "\n",
    "- In contrast, tweets labeled as “I can’t tell” are shorter, indicating that uncertainty or lack of clear sentiment is often expressed more briefly. Outliers are also visible, particularly in neutral and negative tweets, where some users write much longer tweets, possibly rants or detailed explanations."
   ]
  },
  {
   "cell_type": "markdown",
   "id": "475ff655",
   "metadata": {},
   "source": [
    "### Tokenization\n",
    "\n",
    "- Creating a new column (tokens) which contains lists of individual words (tokens) from each cleaned tweet, enabling further text analysis and preprocessing.\n"
   ]
  },
  {
   "cell_type": "markdown",
   "id": "4d062af6",
   "metadata": {},
   "source": [
    "### Stopword Removal\n",
    "\n",
    "- Filtering out common English stopwords (like \"the\", \"is\", \"at\") from the tokens column to retain only meaningful words for analysis."
   ]
  },
  {
   "cell_type": "markdown",
   "id": "21d81351",
   "metadata": {},
   "source": [
    "### Lemmatization\n",
    "\n",
    "- Applying lemmatization to reduce words in the tokens column to their base or dictionary form (“running” → “run”, “cars” → “car”), which improves consistency in text analysis."
   ]
  },
  {
   "cell_type": "markdown",
   "id": "9fe29712",
   "metadata": {},
   "source": [
    "### Joining Tokens Back\n",
    "\n",
    "- Converting lists of tokens back into full text strings (with words separated by spaces), so the cleaned and lemmatized tokens can be fed into models or vectorizers"
   ]
  },
  {
   "cell_type": "markdown",
   "id": "40573b9e",
   "metadata": {},
   "source": [
    "#### Transformation Stages\n",
    "\n",
    "- Lining up each stage of the preprocessing side by side so that it’s easy to trace how tweets evolve from their original form to the reconstructed processed string.\n",
    "    - tweet_text → original\n",
    "    - clean_text → after removing URLs, mentions, hashtags, special chars\n",
    "    - tokens → after tokenization, stopword removal, and lemmatization\n",
    "    - processed_text → final joined string"
   ]
  },
  {
   "cell_type": "markdown",
   "id": "c38b55d5",
   "metadata": {},
   "source": [
    "## Feature Engineering"
   ]
  },
  {
   "cell_type": "markdown",
   "id": "392f2def",
   "metadata": {},
   "source": [
    "###  Vectorization (TF-IDF Example)\n",
    "\n",
    "- Transforming cleaned tweets into machine-readable numbers for modeling while limiting the vocabulary size to 5,000 features."
   ]
  },
  {
   "cell_type": "markdown",
   "id": "90ce7d33",
   "metadata": {},
   "source": [
    "# Define target labels (sentiment)\n",
    "y = df[\"is_there_an_emotion_directed_at_a_brand_or_product\"]\n",
    "\n",
    "# Use the TF-IDF features from the preprocessing pipeline\n",
    "X_train, X_test, y_train, y_test = train_test_split(X_tfidf, y, test_size=0.2, random_state=42)\n",
    "print(\"Train size:\", X_train.shape)\n",
    "print(\"Test size:\", X_test.shape)"
   ]
  },
  {
   "cell_type": "markdown",
   "id": "ee1d2aed",
   "metadata": {},
   "source": [
    "\n",
    "- Examining how TF-IDF represents an individual tweet numerically.\n",
    "    - Select a sample tweet, in our case we choose the first one\n",
    "    - Convert it's sparse TF-IDF vector into readable dense format\n",
    "    - Identify the non-zero features — i.e., the words that appear in this tweet.\n",
    "    - Pair each word with its corresponding TF-IDF weight.\n",
    "\n",
    "- The output showcases: \n",
    "    - the original tweet\n",
    "    - the cleaned and processed version\n",
    "    - and the key words with their TF-IDF scores that define the tweet’s representation."
   ]
  },
  {
   "cell_type": "markdown",
   "id": "b11f611b",
   "metadata": {},
   "source": [
    "### Building a Custom Text Preprocessing Pipeline\n",
    "\n",
    "- We refactored preprocessing into a Scikit-learn Pipeline to ensure consistent and reproducible text processing across all tweets by creating a custom TextPreprocessor that handles:\n",
    "  - Removal of URLs, mentions, hashtags, and special characters\n",
    "  - Tokenization, stopword removal, and lemmatization\n",
    "  - Filling in missing text values\n"
   ]
  },
  {
   "cell_type": "code",
   "execution_count": 15,
   "id": "06970c91",
   "metadata": {},
   "outputs": [
    {
     "name": "stdout",
     "output_type": "stream",
     "text": [
      "TF-IDF shape (full dataset): (9070, 5000)\n",
      "First 20 features: ['aapl', 'aaron', 'ab', 'abba', 'abc', 'ability', 'able', 'abnormal', 'about', 'absolutely', 'absolutley', 'abt', 'abuzz', 'academy', 'acc', 'accelerater', 'acceptable', 'access', 'accessibility', 'accessible']\n"
     ]
    }
   ],
   "source": [
    "\n",
    "from sklearn.pipeline import Pipeline\n",
    "from sklearn.base import BaseEstimator, TransformerMixin\n",
    "from sklearn.preprocessing import FunctionTransformer\n",
    "from sklearn.feature_extraction.text import TfidfVectorizer\n",
    "\n",
    "# Download NLTK resources (leave commented if already downloaded)\n",
    "# nltk.download(\"punkt\")\n",
    "# nltk.download(\"stopwords\")\n",
    "# nltk.download(\"wordnet\")\n",
    "# nltk.download(\"omw-1.4\")\n",
    "\n",
    "from nltk.corpus import stopwords\n",
    "from nltk.tokenize import word_tokenize\n",
    "from nltk.stem import WordNetLemmatizer\n",
    "\n",
    "stop_words = set(stopwords.words(\"english\"))\n",
    "lemmatizer = WordNetLemmatizer()\n",
    "\n",
    "\n",
    "# Custom Preprocessor\n",
    "\n",
    "\n",
    "class TextPreprocessor(BaseEstimator, TransformerMixin):\n",
    "    def __init__(self, text_column):\n",
    "        self.text_column = text_column\n",
    "\n",
    "    def clean_text(self, text):\n",
    "        text = re.sub(r\"http\\S+|www\\S+|https\\S+\", \"\", text)  # remove urls\n",
    "        text = re.sub(r\"@\\w+\", \"\", text)  # remove mentions\n",
    "        text = re.sub(r\"#\\w+\", \"\", text)  # remove hashtags\n",
    "        text = re.sub(r\"[^A-Za-z\\s]\", \"\", text)  # remove special characters\n",
    "        return text.strip()\n",
    "    \n",
    "    def tokenize_lemmatize(self, text):\n",
    "        tokens = word_tokenize(text)\n",
    "        tokens = [t for t in tokens if t not in stop_words]\n",
    "        tokens = [lemmatizer.lemmatize(t) for t in tokens]\n",
    "        return \" \".join(tokens)\n",
    "    \n",
    "    def transform(self, X, y=None):\n",
    "        X_filled = X.copy()\n",
    "        \n",
    "        # Fill missing values in the second column\n",
    "        second_col = X_filled.columns[1]\n",
    "        X_filled[second_col] = X_filled[second_col].fillna(\"Unknown\")\n",
    "        \n",
    "        # Process the text column\n",
    "        X_filled[self.text_column] = X_filled[self.text_column].apply(\n",
    "            lambda t: self.tokenize_lemmatize(self.clean_text(t))\n",
    ")\n",
    "        \n",
    "        return X_filled  # return as DataFrame\n",
    "\n",
    "    def fit(self, X, y=None):\n",
    "        return self\n",
    "\n",
    "\n",
    "# Load Dataset\n",
    "\n",
    "df = pd.read_csv(\"Data\\\\judge-1377884607_tweet_product_company.csv\", encoding=\"Latin-1\")\n",
    "\n",
    "df.dropna(subset=[\"tweet_text\"], inplace=True)\n",
    "df.drop_duplicates(inplace=True)\n",
    "\n",
    "\n",
    "# Build Preprocessing + TF-IDF Pipeline\n",
    "\n",
    "preprocessing_pipeline = Pipeline([\n",
    "    (\"text_preprocessor\", TextPreprocessor(text_column=\"tweet_text\")),\n",
    "    # Select the processed text column for vectorization\n",
    "    (\"to_text\", FunctionTransformer(lambda d: d[\"tweet_text\"], validate=False)),\n",
    "    (\"tfidf\", TfidfVectorizer(max_features=5000)),\n",
    "])\n",
    "\n",
    "# Apply Pipeline to produce TF-IDF features for the whole dataset (optional preview)\n",
    "X_tfidf = preprocessing_pipeline.fit_transform(df)\n",
    "print(\"TF-IDF shape (full dataset):\", X_tfidf.shape)\n",
    "\n",
    "# Peek at a few features\n",
    "feature_names = preprocessing_pipeline.named_steps[\"tfidf\"].get_feature_names_out()\n",
    "print(\"First 20 features:\", list(feature_names[:20]))"
   ]
  },
  {
   "cell_type": "markdown",
   "id": "9b2edbef",
   "metadata": {},
   "source": [
    "### Train-Test Split\n",
    "\n",
    "- Splitting the dataset into training (80%) and testing (20%) sets to prepare for model building.\n",
    "- The training set (X_train, y_train) will be used to fit the model, while the test set (X_test, y_test) will evaluate its performance."
   ]
  },
  {
   "cell_type": "code",
   "execution_count": 16,
   "id": "4ab59de6",
   "metadata": {},
   "outputs": [
    {
     "name": "stdout",
     "output_type": "stream",
     "text": [
      "Train TF-IDF: (7256, 5000)\n",
      "Test TF-IDF: (1814, 5000)\n"
     ]
    }
   ],
   "source": [
    "# Train/test split BEFORE fitting the pipeline\n",
    "from sklearn.model_selection import train_test_split\n",
    "\n",
    "# Features and target\n",
    "X_df = df.copy()  # keep full dataframe for the transformer\n",
    "y = X_df[\"is_there_an_emotion_directed_at_a_brand_or_product\"].copy()\n",
    "\n",
    "X_train_df, X_test_df, y_train, y_test = train_test_split(\n",
    "    X_df, y, test_size=0.2, random_state=42, stratify=y\n",
    " )\n",
    "\n",
    "# Fit on train, transform train and test\n",
    "X_train = preprocessing_pipeline.fit_transform(X_train_df)\n",
    "X_test = preprocessing_pipeline.transform(X_test_df)\n",
    "\n",
    "print(\"Train TF-IDF:\", X_train.shape)\n",
    "print(\"Test TF-IDF:\", X_test.shape)"
   ]
  },
  {
   "cell_type": "markdown",
   "id": "da7b7e67",
   "metadata": {},
   "source": [
    "# Model Building starts here"
   ]
  },
  {
   "cell_type": "markdown",
   "id": "1ae24a42",
   "metadata": {},
   "source": [
    "Five models were trained and tested.\n",
    "\n",
    "- Logistic regression\n",
    "- Naive Bayes\n",
    "- Linear SVM\n",
    "- Random Forest\n",
    "- XGBoost"
   ]
  },
  {
   "cell_type": "code",
   "execution_count": 17,
   "id": "d5b3ebd9",
   "metadata": {},
   "outputs": [
    {
     "name": "stdout",
     "output_type": "stream",
     "text": [
      "Logistic Regression Accuracy: 0.6968\n",
      "Naive Bayes Accuracy: 0.6808\n"
     ]
    },
    {
     "name": "stderr",
     "output_type": "stream",
     "text": [
      "c:\\Users\\User\\anaconda3\\envs\\learn-env\\lib\\site-packages\\sklearn\\svm\\_classes.py:32: FutureWarning: The default value of `dual` will change from `True` to `'auto'` in 1.5. Set the value of `dual` explicitly to suppress the warning.\n",
      "  warnings.warn(\n"
     ]
    },
    {
     "name": "stdout",
     "output_type": "stream",
     "text": [
      "Linear SVM Accuracy: 0.6874\n",
      "Random Forest Accuracy: 0.6273\n",
      "[08:59:03] WARNING: C:\\Users\\Administrator\\workspace\\xgboost-win64_release_1.2.0\\src\\learner.cc:516: \n",
      "Parameters: { use_label_encoder } might not be used.\n",
      "\n",
      "  This may not be accurate due to some parameters are only used in language bindings but\n",
      "  passed down to XGBoost core.  Or some parameters are not used but slip through this\n",
      "  verification. Please open an issue if you find above cases.\n",
      "\n",
      "\n",
      "XGBoost Accuracy: 0.6863\n"
     ]
    }
   ],
   "source": [
    "# Imported Libraries\n",
    "from sklearn.linear_model import LogisticRegression\n",
    "from sklearn.naive_bayes import MultinomialNB\n",
    "from sklearn.svm import LinearSVC\n",
    "from sklearn.ensemble import RandomForestClassifier\n",
    "from sklearn.metrics import accuracy_score\n",
    "from xgboost import XGBClassifier  # pip install xgboost if missing\n",
    "\n",
    "# Train/Test Split\n",
    "\n",
    "X_train, X_test, y_train, y_test = train_test_split(\n",
    "    df[\"tweet_text\"], \n",
    "    df[\"is_there_an_emotion_directed_at_a_brand_or_product\"], \n",
    "    test_size=0.2, random_state=42\n",
    ")\n",
    "\n",
    "# TF-IDF Vectorization\n",
    "\n",
    "tfidf = TfidfVectorizer(ngram_range=(1,2), max_features=10000)\n",
    "X_train_tfidf = tfidf.fit_transform(X_train)\n",
    "X_test_tfidf = tfidf.transform(X_test)\n",
    "\n",
    "\n",
    "# Models to Compare\n",
    "\n",
    "models = {\n",
    "    \"Logistic Regression\": LogisticRegression(C=2.0, max_iter=2000, solver=\"liblinear\"),\n",
    "    \"Naive Bayes\": MultinomialNB(alpha=0.5),\n",
    "    \"Linear SVM\": LinearSVC(),\n",
    "    \"Random Forest\": RandomForestClassifier(n_estimators=200, max_depth=20, random_state=42),\n",
    "    \"XGBoost\": XGBClassifier(use_label_encoder=False, eval_metric=\"mlogloss\",\n",
    "                             n_estimators=300, max_depth=6, learning_rate=0.1, random_state=42)\n",
    "}\n",
    "\n",
    "\n",
    "# Train & Evaluate\n",
    "\n",
    "for name, model in models.items():\n",
    "    model.fit(X_train_tfidf, y_train)\n",
    "    y_pred = model.predict(X_test_tfidf)\n",
    "    print(f\"{name} Accuracy: {accuracy_score(y_test, y_pred):.4f}\")\n"
   ]
  },
  {
   "cell_type": "markdown",
   "id": "608e97a4",
   "metadata": {},
   "source": [
    "#### Visualizing the findings on Bar Plot and Confusion Matrix"
   ]
  },
  {
   "cell_type": "code",
   "execution_count": null,
   "id": "8f548fa7-da27-4f02-abcc-9c5a8afee2de",
   "metadata": {},
   "outputs": [
    {
     "name": "stderr",
     "output_type": "stream",
     "text": [
      "c:\\Users\\User\\anaconda3\\envs\\learn-env\\lib\\site-packages\\sklearn\\svm\\_classes.py:32: FutureWarning: The default value of `dual` will change from `True` to `'auto'` in 1.5. Set the value of `dual` explicitly to suppress the warning.\n",
      "  warnings.warn(\n"
     ]
    },
    {
     "name": "stdout",
     "output_type": "stream",
     "text": [
      "[09:00:10] WARNING: C:\\Users\\Administrator\\workspace\\xgboost-win64_release_1.2.0\\src\\learner.cc:516: \n",
      "Parameters: { use_label_encoder } might not be used.\n",
      "\n",
      "  This may not be accurate due to some parameters are only used in language bindings but\n",
      "  passed down to XGBoost core.  Or some parameters are not used but slip through this\n",
      "  verification. Please open an issue if you find above cases.\n",
      "\n",
      "\n"
     ]
    },
    {
     "data": {
      "image/png": "[encoded data removed]",
      "text/plain": [
       "<Figure size 800x500 with 1 Axes>"
      ]
     },
     "metadata": {},
     "output_type": "display_data"
    },
    {
     "data": {
      "image/png": "[encoded data removed]",
      "text/plain": [
       "<Figure size 2000x500 with 5 Axes>"
      ]
     },
     "metadata": {},
     "output_type": "display_data"
    },
    {
     "name": "stderr",
     "output_type": "stream",
     "text": [
      "c:\\Users\\User\\anaconda3\\envs\\learn-env\\lib\\site-packages\\sklearn\\metrics\\_classification.py:1471: UndefinedMetricWarning: Precision and F-score are ill-defined and being set to 0.0 in labels with no predicted samples. Use `zero_division` parameter to control this behavior.\n",
      "  _warn_prf(average, modifier, msg_start, len(result))\n",
      "c:\\Users\\User\\anaconda3\\envs\\learn-env\\lib\\site-packages\\sklearn\\metrics\\_classification.py:1471: UndefinedMetricWarning: Precision and F-score are ill-defined and being set to 0.0 in labels with no predicted samples. Use `zero_division` parameter to control this behavior.\n",
      "  _warn_prf(average, modifier, msg_start, len(result))\n",
      "c:\\Users\\User\\anaconda3\\envs\\learn-env\\lib\\site-packages\\sklearn\\metrics\\_classification.py:1471: UndefinedMetricWarning: Precision and F-score are ill-defined and being set to 0.0 in labels with no predicted samples. Use `zero_division` parameter to control this behavior.\n",
      "  _warn_prf(average, modifier, msg_start, len(result))\n"
     ]
    },
    {
     "data": {
      "image/png": "[encoded data removed]",
      "text/plain": [
       "<Figure size 800x500 with 2 Axes>"
      ]
     },
     "metadata": {},
     "output_type": "display_data"
    }
   ],
   "source": [
    "# Visualization of the results\n",
    "import seaborn as sns\n",
    "from sklearn.metrics import confusion_matrix, classification_report\n",
    "\n",
    "# Store results\n",
    "accuracies = {}\n",
    "conf_matrices = {}\n",
    "\n",
    "for name, model in models.items():\n",
    "    model.fit(X_train_tfidf, y_train)\n",
    "    y_pred = model.predict(X_test_tfidf)\n",
    "    acc = accuracy_score(y_test, y_pred)\n",
    "    accuracies[name] = acc\n",
    "    conf_matrices[name] = confusion_matrix(y_test, y_pred)\n",
    "\n",
    "# 1. Accuracy Comparison Bar Plot\n",
    "plt.figure(figsize=(8,5))\n",
    "sns.barplot(x=list(accuracies.keys()), y=list(accuracies.values()))\n",
    "plt.title(\"Model Accuracy Comparison\", fontsize=14)\n",
    "plt.ylabel(\"Accuracy\")\n",
    "plt.ylim(0,1)\n",
    "plt.xticks(rotation=30)\n",
    "plt.show()\n",
    "\n",
    "\n",
    "# 2. Confusion Matrix Heatmaps\n",
    "\n",
    "fig, axes = plt.subplots(1, len(models), figsize=(20,5))\n",
    "\n",
    "for ax, (name, cm) in zip(axes, conf_matrices.items()):\n",
    "    sns.heatmap(cm, annot=True, fmt=\"d\", cmap=\"Blues\", ax=ax, cbar=False)\n",
    "    ax.set_title(name)\n",
    "    ax.set_xlabel(\"Predicted\")\n",
    "    ax.set_ylabel(\"True\")\n",
    "\n",
    "plt.tight_layout()\n",
    "plt.show()\n",
    "\n",
    "# 3. Classification Report Heatmap (for 1 model example)\n",
    "\n",
    "from sklearn.preprocessing import LabelEncoder\n",
    "\n",
    "# Example for Logistic Regression\n",
    "model = models[\"Logistic Regression\"]\n",
    "y_pred = model.predict(X_test_tfidf)\n",
    "report = classification_report(y_test, y_pred, output_dict=True)\n",
    "df_report = pd.DataFrame(report).transpose()\n",
    "\n",
    "plt.figure(figsize=(8,5))\n",
    "sns.heatmap(df_report.iloc[:-1, :-1], annot=True, cmap=\"YlGnBu\", fmt=\".2f\")\n",
    "plt.title(\"Logistic Regression - Classification Report Heatmap\")\n",
    "plt.show()\n"
   ]
  },
  {
   "cell_type": "markdown",
   "id": "c4908aa7",
   "metadata": {},
   "source": [
    "### Results\n",
    "| Model               | Accuracy   |\n",
    "| ------------------- | ---------- |\n",
    "| Logistic Regression | **0.6968** |\n",
    "| Naive Bayes         | 0.6808     |\n",
    "| Linear SVM          | 0.6874     |\n",
    "| Random Forest       | 0.6273     |\n",
    "| XGBoost             | 0.6863     |\n"
   ]
  },
  {
   "cell_type": "markdown",
   "id": "00829b03",
   "metadata": {},
   "source": [
    "### Observations\n",
    "\n",
    "- Logistic Regression performed best with an accuracy of ~69.7%, slightly outperforming Linear SVM and XGBoost.\n",
    "\n",
    "- Naive Bayes was competitive but slightly weaker, likely due to sensitivity to word frequency distributions.\n",
    "\n",
    "- Random Forest underperformed compared to linear models, suggesting that tree-based models may not handle sparse high-dimensional TF-IDF features as effectively.\n",
    "\n",
    "- XGBoost was strong but did not outperform simpler linear models in this setup."
   ]
  },
  {
   "cell_type": "markdown",
   "id": "1743395e",
   "metadata": {},
   "source": [
    "### Next Step\n",
    "\n",
    "- Apply hyperparameter tuning (e.g., GridSearchCV or RandomizedSearchCV) on Logistic Regression and SVM\n",
    "\n"
   ]
  },
  {
   "cell_type": "markdown",
   "id": "8f1bc5e4-272e-4410-b898-102a15f62a2a",
   "metadata": {},
   "source": [
    "##  Model Optimization with GridSearchCV (TF-IDF + Classifiers)"
   ]
  },
  {
   "cell_type": "code",
   "execution_count": 19,
   "id": "62b3753b",
   "metadata": {
    "scrolled": true
   },
   "outputs": [
    {
     "name": "stdout",
     "output_type": "stream",
     "text": [
      "Fitting 5 folds for each of 12 candidates, totalling 60 fits\n",
      "Best Logistic Regression params: {'clf__C': 1, 'clf__solver': 'liblinear', 'tfidf__ngram_range': (1, 2)}\n",
      "Logistic Regression Accuracy: 0.6675854465270121\n",
      "                                    precision    recall  f1-score   support\n",
      "\n",
      "                      I can't tell       0.12      0.09      0.11        33\n",
      "                  Negative emotion       0.37      0.42      0.39       119\n",
      "No emotion toward brand or product       0.75      0.77      0.76      1106\n",
      "                  Positive emotion       0.59      0.55      0.57       556\n",
      "\n",
      "                          accuracy                           0.67      1814\n",
      "                         macro avg       0.46      0.46      0.46      1814\n",
      "                      weighted avg       0.66      0.67      0.67      1814\n",
      "\n",
      "Fitting 5 folds for each of 8 candidates, totalling 40 fits\n"
     ]
    },
    {
     "name": "stderr",
     "output_type": "stream",
     "text": [
      "c:\\Users\\User\\anaconda3\\envs\\learn-env\\lib\\site-packages\\sklearn\\svm\\_classes.py:32: FutureWarning: The default value of `dual` will change from `True` to `'auto'` in 1.5. Set the value of `dual` explicitly to suppress the warning.\n",
      "  warnings.warn(\n"
     ]
    },
    {
     "name": "stdout",
     "output_type": "stream",
     "text": [
      "Best SVM params: {'clf__C': 0.1, 'tfidf__ngram_range': (1, 2)}\n",
      "SVM Accuracy: 0.6659316427783903\n",
      "                                    precision    recall  f1-score   support\n",
      "\n",
      "                      I can't tell       0.11      0.12      0.12        33\n",
      "                  Negative emotion       0.36      0.45      0.40       119\n",
      "No emotion toward brand or product       0.76      0.76      0.76      1106\n",
      "                  Positive emotion       0.59      0.55      0.57       556\n",
      "\n",
      "                          accuracy                           0.67      1814\n",
      "                         macro avg       0.46      0.47      0.46      1814\n",
      "                      weighted avg       0.67      0.67      0.67      1814\n",
      "\n"
     ]
    }
   ],
   "source": [
    "from sklearn.model_selection import GridSearchCV, RandomizedSearchCV\n",
    "\n",
    "# Logistic Regression + TF-IDF\n",
    "\n",
    "lr_pipeline = Pipeline([\n",
    "    ('tfidf', TfidfVectorizer(max_features=5000, ngram_range=(1,2))),\n",
    "    ('clf', LogisticRegression(max_iter=1000, class_weight='balanced'))\n",
    "])\n",
    "\n",
    "lr_param_grid = {\n",
    "    'tfidf__ngram_range': [(1,1), (1,2)],        # unigrams or unigrams+bigrams\n",
    "    'clf__C': [0.1, 1, 10],                      # regularization strength\n",
    "    'clf__solver': ['liblinear', 'saga']         # solvers that work well for text\n",
    "}\n",
    "\n",
    "lr_grid = GridSearchCV(lr_pipeline, param_grid=lr_param_grid, \n",
    "                       cv=5, scoring='accuracy', n_jobs=-1, verbose=2)\n",
    "lr_grid.fit(X_train, y_train)\n",
    "\n",
    "print(\"Best Logistic Regression params:\", lr_grid.best_params_)\n",
    "y_pred_lr = lr_grid.predict(X_test)\n",
    "print(\"Logistic Regression Accuracy:\", accuracy_score(y_test, y_pred_lr))\n",
    "print(classification_report(y_test, y_pred_lr))\n",
    "\n",
    "\n",
    "# SVM + TF-IDF\n",
    "\n",
    "svm_pipeline = Pipeline([\n",
    "    ('tfidf', TfidfVectorizer(max_features=5000, ngram_range=(1,2))),\n",
    "    ('clf', LinearSVC(class_weight='balanced'))\n",
    "])\n",
    "\n",
    "svm_param_grid = {\n",
    "    'tfidf__ngram_range': [(1,1), (1,2)],\n",
    "    'clf__C': [0.01, 0.1, 1, 10]\n",
    "}\n",
    "\n",
    "svm_grid = GridSearchCV(svm_pipeline, param_grid=svm_param_grid, \n",
    "                        cv=5, scoring='accuracy', n_jobs=-1, verbose=2)\n",
    "svm_grid.fit(X_train, y_train)\n",
    "\n",
    "print(\"Best SVM params:\", svm_grid.best_params_)\n",
    "y_pred_svm = svm_grid.predict(X_test)\n",
    "print(\"SVM Accuracy:\", accuracy_score(y_test, y_pred_svm))\n",
    "print(classification_report(y_test, y_pred_svm))\n"
   ]
  },
  {
   "cell_type": "markdown",
   "id": "4b3e760f-9f86-4658-92c2-af7d52ac526a",
   "metadata": {},
   "source": [
    "We optimized **Logistic Regression** and **Support Vector Machine (SVM)** models using **TF-IDF features** and **GridSearchCV** for hyperparameter tuning.  \n",
    "Both models were evaluated on the test dataset across four emotion-related classes.\n",
    "\n",
    "---\n",
    "\n",
    "###  Logistic Regression (with TF-IDF)\n",
    "\n",
    "- **Best Parameters:**  \n",
    "  - `C = 1`  \n",
    "  - `solver = liblinear`  \n",
    "  - `ngram_range = (1, 2)` (unigrams + bigrams)  \n",
    "\n",
    "- **Accuracy:** **66.8%**  \n",
    "\n",
    "- **Performance Breakdown:**  \n",
    "  - Strong performance on **\"No emotion toward brand or product\"** (F1 ≈ 0.76).  \n",
    "  - Moderate results for **\"Positive emotion\"** (F1 ≈ 0.57).  \n",
    "  - Weak detection of **\"Negative emotion\"** (F1 ≈ 0.39) and **\"I can't tell\"** (F1 ≈ 0.11).  \n",
    "\n",
    "- **Interpretation:**  \n",
    "  Logistic Regression, with optimized parameters, captured frequent neutral and positive expressions well. However, it struggled with low-frequency categories like \"I can't tell,\" where data imbalance is likely a factor.\n",
    "\n",
    "---\n",
    "\n",
    "### Support Vector Machine (LinearSVC with TF-IDF)\n",
    "\n",
    "- **Best Parameters:**  \n",
    "  - `C = 0.1`  \n",
    "  - `ngram_range = (1, 2)`  \n",
    "\n",
    "- **Accuracy:** **66.6%**  \n",
    "\n",
    "- **Performance Breakdown:**  \n",
    "  - Best at identifying **\"No emotion toward brand or product\"** (F1 ≈ 0.76).  \n",
    "  - Similar to Logistic Regression for **\"Positive emotion\"** (F1 ≈ 0.57).  \n",
    "  - Struggled on **minority classes** like \"Negative emotion\" (F1 ≈ 0.40) and **\"I can't tell\"** (F1 ≈ 0.12).  \n",
    "\n",
    "- **Interpretation:**  \n",
    "  The SVM achieved nearly identical performance to Logistic Regression, suggesting that both models exploit TF-IDF features similarly. While robust for majority classes, SVM underperformed on minority categories.\n",
    "\n",
    "---\n",
    "\n",
    "### Comparative Insights  \n",
    "\n",
    "| Model                | Accuracy | Strengths                                    | Weaknesses                           |\n",
    "|----------------------|----------|----------------------------------------------|---------------------------------------|\n",
    "| Logistic Regression  | 66.8%    | Strong on neutral and positive emotions       | Weak on minority classes              |\n",
    "| SVM (LinearSVC)      | 66.6%    | Balanced performance across major classes     | Same struggles with rare categories   |\n"
   ]
  },
  {
   "cell_type": "markdown",
   "id": "aacd114a-e95f-4703-b37e-52ceff6e8d7e",
   "metadata": {},
   "source": [
    "### Conclusion\n",
    "Logistic Regression with TF-IDF currently provides the best trade-off between accuracy and simplicity."
   ]
  },
  {
   "cell_type": "code",
   "execution_count": null,
   "id": "e6b19cf8-c277-4ec4-87b2-6919d646cb5a",
   "metadata": {},
   "outputs": [],
   "source": []
  }
 ],
 "metadata": {
  "kernelspec": {
   "display_name": "learn-env",
   "language": "python",
   "name": "python3"
  },
  "language_info": {
   "codemirror_mode": {
    "name": "ipython",
    "version": 3
   },
   "file_extension": ".py",
   "mimetype": "text/x-python",
   "name": "python",
   "nbconvert_exporter": "python",
   "pygments_lexer": "ipython3",
   "version": "3.8.5"
  }
 },
 "nbformat": 4,
 "nbformat_minor": 5
}
